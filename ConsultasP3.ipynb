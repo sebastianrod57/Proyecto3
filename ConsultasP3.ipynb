{
 "cells": [
  {
   "cell_type": "code",
   "execution_count": 18,
   "metadata": {},
   "outputs": [
    {
     "name": "stdout",
     "output_type": "stream",
     "text": [
      "Número total de registros en la tabla: 25651\n"
     ]
    }
   ],
   "source": [
    "import psycopg2\n",
    "\n",
    "# Establecer la conexión con la base de datos\n",
    "engine = psycopg2.connect(\n",
    "    dbname=\"icfes\",\n",
    "    user=\"postgres\",\n",
    "    password=\"Proyecto3\",\n",
    "    host=\"proyecto3-ssc.ccesjqcligmw.us-east-1.rds.amazonaws.com\",\n",
    "    port='5432'\n",
    ")\n",
    "cursor = engine.cursor()\n",
    "\n",
    "# Consulta para contar el número total de registros en la tabla \"Estudiantes\"\n",
    "query_count = \"SELECT COUNT(*) FROM icfes;\"\n",
    "cursor.execute(query_count)\n",
    "result_count = cursor.fetchone()\n",
    "print(\"Número total de registros en la tabla:\", result_count[0])"
   ]
  },
  {
   "cell_type": "code",
   "execution_count": 12,
   "metadata": {},
   "outputs": [
    {
     "name": "stderr",
     "output_type": "stream",
     "text": [
      "C:\\Users\\Personal\\AppData\\Local\\Temp\\ipykernel_13344\\634289702.py:18: UserWarning: pandas only supports SQLAlchemy connectable (engine/connection) or database string URI or sqlite3 DBAPI2 connection. Other DBAPI2 objects are not tested. Please consider using SQLAlchemy.\n",
      "  df = pd.read_sql_query(consulta1, engine)\n"
     ]
    },
    {
     "data": {
      "text/html": [
       "<div>\n",
       "<style scoped>\n",
       "    .dataframe tbody tr th:only-of-type {\n",
       "        vertical-align: middle;\n",
       "    }\n",
       "\n",
       "    .dataframe tbody tr th {\n",
       "        vertical-align: top;\n",
       "    }\n",
       "\n",
       "    .dataframe thead th {\n",
       "        text-align: right;\n",
       "    }\n",
       "</style>\n",
       "<table border=\"1\" class=\"dataframe\">\n",
       "  <thead>\n",
       "    <tr style=\"text-align: right;\">\n",
       "      <th></th>\n",
       "      <th>colegio_bilingue</th>\n",
       "      <th>rango_puntaje</th>\n",
       "      <th>cantidad_estudiantes</th>\n",
       "    </tr>\n",
       "  </thead>\n",
       "  <tbody>\n",
       "    <tr>\n",
       "      <th>0</th>\n",
       "      <td>0</td>\n",
       "      <td>1</td>\n",
       "      <td>22</td>\n",
       "    </tr>\n",
       "    <tr>\n",
       "      <th>1</th>\n",
       "      <td>0</td>\n",
       "      <td>2</td>\n",
       "      <td>7443</td>\n",
       "    </tr>\n",
       "    <tr>\n",
       "      <th>2</th>\n",
       "      <td>0</td>\n",
       "      <td>3</td>\n",
       "      <td>13355</td>\n",
       "    </tr>\n",
       "    <tr>\n",
       "      <th>3</th>\n",
       "      <td>0</td>\n",
       "      <td>4</td>\n",
       "      <td>4012</td>\n",
       "    </tr>\n",
       "    <tr>\n",
       "      <th>4</th>\n",
       "      <td>0</td>\n",
       "      <td>5</td>\n",
       "      <td>251</td>\n",
       "    </tr>\n",
       "    <tr>\n",
       "      <th>5</th>\n",
       "      <td>1</td>\n",
       "      <td>1</td>\n",
       "      <td>6</td>\n",
       "    </tr>\n",
       "    <tr>\n",
       "      <th>6</th>\n",
       "      <td>1</td>\n",
       "      <td>2</td>\n",
       "      <td>188</td>\n",
       "    </tr>\n",
       "    <tr>\n",
       "      <th>7</th>\n",
       "      <td>1</td>\n",
       "      <td>3</td>\n",
       "      <td>292</td>\n",
       "    </tr>\n",
       "    <tr>\n",
       "      <th>8</th>\n",
       "      <td>1</td>\n",
       "      <td>4</td>\n",
       "      <td>70</td>\n",
       "    </tr>\n",
       "    <tr>\n",
       "      <th>9</th>\n",
       "      <td>1</td>\n",
       "      <td>5</td>\n",
       "      <td>12</td>\n",
       "    </tr>\n",
       "  </tbody>\n",
       "</table>\n",
       "</div>"
      ],
      "text/plain": [
       "   colegio_bilingue  rango_puntaje  cantidad_estudiantes\n",
       "0                 0              1                    22\n",
       "1                 0              2                  7443\n",
       "2                 0              3                 13355\n",
       "3                 0              4                  4012\n",
       "4                 0              5                   251\n",
       "5                 1              1                     6\n",
       "6                 1              2                   188\n",
       "7                 1              3                   292\n",
       "8                 1              4                    70\n",
       "9                 1              5                    12"
      ]
     },
     "execution_count": 12,
     "metadata": {},
     "output_type": "execute_result"
    }
   ],
   "source": [
    "import pandas as pd\n",
    "\n",
    "# Consulta SQL\n",
    "consulta1 = \"\"\"\n",
    "SELECT\n",
    "        Bilingue AS Colegio_Bilingue,\n",
    "        Puntaje_Ingles AS Rango_Puntaje,\n",
    "        COUNT(*) AS Cantidad_Estudiantes\n",
    "    FROM icfes\n",
    "    GROUP BY Colegio_Bilingue, Rango_Puntaje\n",
    "    ORDER BY Colegio_Bilingue, Rango_Puntaje;\n",
    "\"\"\"\n",
    "\n",
    "cursor.execute(consulta1)\n",
    "graf1 = cursor.fetchall\n",
    "\n",
    "# Ejecutar la consulta y obtener los resultados en un DataFrame\n",
    "df = pd.read_sql_query(consulta1, engine)\n",
    "df\n",
    "\n"
   ]
  },
  {
   "cell_type": "code",
   "execution_count": 13,
   "metadata": {},
   "outputs": [
    {
     "name": "stdout",
     "output_type": "stream",
     "text": [
      "   colegio_bilingue  rango_puntaje  cantidad_estudiantes\n",
      "0                 0              1                    22\n",
      "1                 0              2                  7443\n",
      "2                 0              3                 13355\n",
      "3                 0              4                  4012\n",
      "4                 0              5                   251\n",
      "5                 1              1                     6\n",
      "6                 1              2                   188\n",
      "7                 1              3                   292\n",
      "8                 1              4                    70\n",
      "9                 1              5                    12\n",
      "Index(['colegio_bilingue', 'rango_puntaje', 'cantidad_estudiantes'], dtype='object')\n"
     ]
    },
    {
     "name": "stderr",
     "output_type": "stream",
     "text": [
      "C:\\Users\\Personal\\AppData\\Local\\Temp\\ipykernel_13344\\562547749.py:26: MatplotlibDeprecationWarning: The get_cmap function was deprecated in Matplotlib 3.7 and will be removed two minor releases later. Use ``matplotlib.colormaps[name]`` or ``matplotlib.colormaps.get_cmap(obj)`` instead.\n",
      "  cmap = cm.get_cmap('Blues')\n"
     ]
    },
    {
     "ename": "NameError",
     "evalue": "name 'plt' is not defined",
     "output_type": "error",
     "traceback": [
      "\u001b[1;31m---------------------------------------------------------------------------\u001b[0m",
      "\u001b[1;31mNameError\u001b[0m                                 Traceback (most recent call last)",
      "\u001b[1;32md:\\datos usuario\\Documents\\Universidad de los Andes\\2023-20\\Analitica\\Proyecto\\Proyecto3\\ConsultasP3.ipynb Cell 3\u001b[0m line \u001b[0;36m3\n\u001b[0;32m     <a href='vscode-notebook-cell:/d%3A/datos%20usuario/Documents/Universidad%20de%20los%20Andes/2023-20/Analitica/Proyecto/Proyecto3/ConsultasP3.ipynb#W2sZmlsZQ%3D%3D?line=31'>32</a>\u001b[0m ax \u001b[39m=\u001b[39m resultados_df\u001b[39m.\u001b[39mpivot(index\u001b[39m=\u001b[39m\u001b[39m'\u001b[39m\u001b[39mcolegio_bilingue\u001b[39m\u001b[39m'\u001b[39m, columns\u001b[39m=\u001b[39m\u001b[39m'\u001b[39m\u001b[39mrango_puntaje\u001b[39m\u001b[39m'\u001b[39m, values\u001b[39m=\u001b[39m\u001b[39m'\u001b[39m\u001b[39mcantidad_estudiantes\u001b[39m\u001b[39m'\u001b[39m)\u001b[39m.\u001b[39mplot(kind\u001b[39m=\u001b[39m\u001b[39m'\u001b[39m\u001b[39mbar\u001b[39m\u001b[39m'\u001b[39m, figsize\u001b[39m=\u001b[39m(\u001b[39m10\u001b[39m, \u001b[39m6\u001b[39m), edgecolor\u001b[39m=\u001b[39m\u001b[39m'\u001b[39m\u001b[39mnone\u001b[39m\u001b[39m'\u001b[39m, color\u001b[39m=\u001b[39mblue_tones)\n\u001b[0;32m     <a href='vscode-notebook-cell:/d%3A/datos%20usuario/Documents/Universidad%20de%20los%20Andes/2023-20/Analitica/Proyecto/Proyecto3/ConsultasP3.ipynb#W2sZmlsZQ%3D%3D?line=33'>34</a>\u001b[0m \u001b[39m# Configuración del gráfico\u001b[39;00m\n\u001b[1;32m---> <a href='vscode-notebook-cell:/d%3A/datos%20usuario/Documents/Universidad%20de%20los%20Andes/2023-20/Analitica/Proyecto/Proyecto3/ConsultasP3.ipynb#W2sZmlsZQ%3D%3D?line=34'>35</a>\u001b[0m plt\u001b[39m.\u001b[39mxlabel(\u001b[39m'\u001b[39m\u001b[39mColegio Bilingue\u001b[39m\u001b[39m'\u001b[39m)\n\u001b[0;32m     <a href='vscode-notebook-cell:/d%3A/datos%20usuario/Documents/Universidad%20de%20los%20Andes/2023-20/Analitica/Proyecto/Proyecto3/ConsultasP3.ipynb#W2sZmlsZQ%3D%3D?line=35'>36</a>\u001b[0m plt\u001b[39m.\u001b[39mylabel(\u001b[39m'\u001b[39m\u001b[39mCantidad de Estudiantes (escala symlog)\u001b[39m\u001b[39m'\u001b[39m)\n\u001b[0;32m     <a href='vscode-notebook-cell:/d%3A/datos%20usuario/Documents/Universidad%20de%20los%20Andes/2023-20/Analitica/Proyecto/Proyecto3/ConsultasP3.ipynb#W2sZmlsZQ%3D%3D?line=36'>37</a>\u001b[0m plt\u001b[39m.\u001b[39mtitle(\u001b[39m'\u001b[39m\u001b[39mCantidad de Estudiantes por Rango de Puntaje y Tipo de Colegio\u001b[39m\u001b[39m'\u001b[39m)\n",
      "\u001b[1;31mNameError\u001b[0m: name 'plt' is not defined"
     ]
    },
    {
     "data": {
      "image/png": "[encoded data removed]",
      "text/plain": [
       "<Figure size 1000x600 with 1 Axes>"
      ]
     },
     "metadata": {},
     "output_type": "display_data"
    }
   ],
   "source": [
    "import sqlite3\n",
    "import pandas as pd\n",
    "\n",
    "# Ejecutar la consulta SQL\n",
    "query = \"\"\"\n",
    "    SELECT\n",
    "        Bilingue AS Colegio_Bilingue,\n",
    "        Puntaje_Ingles AS Rango_Puntaje,\n",
    "        COUNT(*) AS Cantidad_Estudiantes\n",
    "    FROM icfes\n",
    "    GROUP BY Colegio_Bilingue, Rango_Puntaje\n",
    "    ORDER BY Colegio_Bilingue, Rango_Puntaje;\n",
    "\"\"\"\n",
    "cursor.execute(query)\n",
    "\n",
    "# Obtener los resultados en un DataFrame\n",
    "columns = [col[0] for col in cursor.description]\n",
    "resultados_df = pd.DataFrame(cursor.fetchall(), columns=columns)\n",
    "print(resultados_df)\n",
    "print(resultados_df.columns)\n",
    "\n",
    "import matplotlib.cm as cm\n",
    "import numpy as np\n",
    "\n",
    "# Obtener una paleta de colores de azul\n",
    "cmap = cm.get_cmap('Blues')\n",
    "\n",
    "# Definir el rango de tonos de azul que quieres usar\n",
    "blue_tones = cmap(np.linspace(0.2, 0.8, 5))\n",
    "\n",
    "# Agrupar los datos por colegio_bilingue y rango_puntaje\n",
    "ax = resultados_df.pivot(index='colegio_bilingue', columns='rango_puntaje', values='cantidad_estudiantes').plot(kind='bar', figsize=(10, 6), edgecolor='none', color=blue_tones)\n",
    "\n",
    "# Configuración del gráfico\n",
    "plt.xlabel('Colegio Bilingue')\n",
    "plt.ylabel('Cantidad de Estudiantes (escala symlog)')\n",
    "plt.title('Cantidad de Estudiantes por Rango de Puntaje y Tipo de Colegio')\n",
    "plt.legend(title='Rango de Puntaje')\n",
    "\n",
    "# Aplicar escala symlog al eje y\n",
    "plt.yscale('symlog')\n",
    "\n",
    "# Quitar bordes\n",
    "ax.spines['top'].set_visible(False)\n",
    "ax.spines['right'].set_visible(False)\n",
    "ax.spines['bottom'].set_visible(True)\n",
    "ax.spines['left'].set_visible(True)\n",
    "\n",
    "plt.show()"
   ]
  },
  {
   "cell_type": "code",
   "execution_count": 22,
   "metadata": {},
   "outputs": [
    {
     "name": "stderr",
     "output_type": "stream",
     "text": [
      "C:\\Users\\Personal\\AppData\\Local\\Temp\\ipykernel_13344\\3836634760.py:28: UserWarning: pandas only supports SQLAlchemy connectable (engine/connection) or database string URI or sqlite3 DBAPI2 connection. Other DBAPI2 objects are not tested. Please consider using SQLAlchemy.\n",
      "  df = pd.read_sql_query(consulta2, engine)\n"
     ]
    },
    {
     "data": {
      "text/html": [
       "<div>\n",
       "<style scoped>\n",
       "    .dataframe tbody tr th:only-of-type {\n",
       "        vertical-align: middle;\n",
       "    }\n",
       "\n",
       "    .dataframe tbody tr th {\n",
       "        vertical-align: top;\n",
       "    }\n",
       "\n",
       "    .dataframe thead th {\n",
       "        text-align: right;\n",
       "    }\n",
       "</style>\n",
       "<table border=\"1\" class=\"dataframe\">\n",
       "  <thead>\n",
       "    <tr style=\"text-align: right;\">\n",
       "      <th></th>\n",
       "      <th>ubicacion</th>\n",
       "      <th>estudiantes_arriba</th>\n",
       "      <th>estudiantes_abajo</th>\n",
       "    </tr>\n",
       "  </thead>\n",
       "  <tbody>\n",
       "    <tr>\n",
       "      <th>0</th>\n",
       "      <td>0</td>\n",
       "      <td>8</td>\n",
       "      <td>4168</td>\n",
       "    </tr>\n",
       "    <tr>\n",
       "      <th>1</th>\n",
       "      <td>1</td>\n",
       "      <td>573</td>\n",
       "      <td>20902</td>\n",
       "    </tr>\n",
       "  </tbody>\n",
       "</table>\n",
       "</div>"
      ],
      "text/plain": [
       "   ubicacion  estudiantes_arriba  estudiantes_abajo\n",
       "0          0                   8               4168\n",
       "1          1                 573              20902"
      ]
     },
     "execution_count": 22,
     "metadata": {},
     "output_type": "execute_result"
    }
   ],
   "source": [
    "import pandas as pd\n",
    "import psycopg2\n",
    "\n",
    "# Establecer la conexión con la base de datos\n",
    "engine = psycopg2.connect(\n",
    "    dbname=\"icfes\",\n",
    "    user=\"postgres\",\n",
    "    password=\"Proyecto3\",\n",
    "    host=\"proyecto3-ssc.ccesjqcligmw.us-east-1.rds.amazonaws.com\",\n",
    "    port='5432'\n",
    ")\n",
    "cursor = engine.cursor()\n",
    "\n",
    "# Consulta SQL\n",
    "consulta2 = \"\"\"\n",
    "     SELECT\n",
    "        Ubicacion,\n",
    "        SUM(Puntaje_Global) AS Estudiantes_Arriba,\n",
    "        COUNT(*) - SUM(Puntaje_Global) AS Estudiantes_Abajo\n",
    "    FROM icfes\n",
    "    GROUP BY ubicacion;\n",
    "\"\"\"\n",
    "\n",
    "cursor.execute(consulta2)\n",
    "graf1 = cursor.fetchall()  # Asegúrate de invocar la función fetchall()\n",
    "\n",
    "# Ejecutar la consulta y obtener los resultados en un DataFrame\n",
    "df = pd.read_sql_query(consulta2, engine)\n",
    "df\n"
   ]
  },
  {
   "cell_type": "code",
   "execution_count": 23,
   "metadata": {},
   "outputs": [
    {
     "name": "stderr",
     "output_type": "stream",
     "text": [
      "C:\\Users\\Personal\\AppData\\Local\\Temp\\ipykernel_13344\\516458620.py:29: UserWarning: pandas only supports SQLAlchemy connectable (engine/connection) or database string URI or sqlite3 DBAPI2 connection. Other DBAPI2 objects are not tested. Please consider using SQLAlchemy.\n",
      "  df = pd.read_sql_query(consulta2, engine)\n"
     ]
    },
    {
     "data": {
      "text/html": [
       "<div>\n",
       "<style scoped>\n",
       "    .dataframe tbody tr th:only-of-type {\n",
       "        vertical-align: middle;\n",
       "    }\n",
       "\n",
       "    .dataframe tbody tr th {\n",
       "        vertical-align: top;\n",
       "    }\n",
       "\n",
       "    .dataframe thead th {\n",
       "        text-align: right;\n",
       "    }\n",
       "</style>\n",
       "<table border=\"1\" class=\"dataframe\">\n",
       "  <thead>\n",
       "    <tr style=\"text-align: right;\">\n",
       "      <th></th>\n",
       "      <th>internet</th>\n",
       "      <th>estudiantes_arriba</th>\n",
       "      <th>estudiantes_abajo</th>\n",
       "    </tr>\n",
       "  </thead>\n",
       "  <tbody>\n",
       "    <tr>\n",
       "      <th>0</th>\n",
       "      <td>0</td>\n",
       "      <td>20</td>\n",
       "      <td>7136</td>\n",
       "    </tr>\n",
       "    <tr>\n",
       "      <th>1</th>\n",
       "      <td>1</td>\n",
       "      <td>561</td>\n",
       "      <td>17934</td>\n",
       "    </tr>\n",
       "  </tbody>\n",
       "</table>\n",
       "</div>"
      ],
      "text/plain": [
       "   internet  estudiantes_arriba  estudiantes_abajo\n",
       "0         0                  20               7136\n",
       "1         1                 561              17934"
      ]
     },
     "execution_count": 23,
     "metadata": {},
     "output_type": "execute_result"
    }
   ],
   "source": [
    "import pandas as pd\n",
    "import psycopg2\n",
    "\n",
    "# Establecer la conexión con la base de datos\n",
    "engine = psycopg2.connect(\n",
    "    dbname=\"icfes\",\n",
    "    user=\"postgres\",\n",
    "    password=\"Proyecto3\",\n",
    "    host=\"proyecto3-ssc.ccesjqcligmw.us-east-1.rds.amazonaws.com\",\n",
    "    port='5432'\n",
    ")\n",
    "cursor = engine.cursor()\n",
    "\n",
    "# Consulta SQL\n",
    "consulta2 = \"\"\"\n",
    "      SELECT\n",
    "        Internet,\n",
    "        SUM(Puntaje_Global) AS Estudiantes_Arriba,\n",
    "        COUNT(*) - SUM(Puntaje_Global) AS Estudiantes_Abajo\n",
    "    FROM icfes\n",
    "    GROUP BY Internet;\n",
    "\n",
    "\"\"\"\n",
    "\n",
    "cursor.execute(consulta2)\n",
    "graf1 = cursor.fetchall()  # Asegúrate de invocar la función fetchall()\n",
    "\n",
    "# Ejecutar la consulta y obtener los resultados en un DataFrame\n",
    "df = pd.read_sql_query(consulta2, engine)\n",
    "df\n"
   ]
  }
 ],
 "metadata": {
  "kernelspec": {
   "display_name": "Python 3",
   "language": "python",
   "name": "python3"
  },
  "language_info": {
   "codemirror_mode": {
    "name": "ipython",
    "version": 3
   },
   "file_extension": ".py",
   "mimetype": "text/x-python",
   "name": "python",
   "nbconvert_exporter": "python",
   "pygments_lexer": "ipython3",
   "version": "3.11.4"
  }
 },
 "nbformat": 4,
 "nbformat_minor": 2
}
